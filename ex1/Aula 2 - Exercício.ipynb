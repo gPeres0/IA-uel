{
 "cells": [
  {
   "cell_type": "markdown",
   "id": "44341fc6",
   "metadata": {},
   "source": [
    "# Exercício\n",
    "\n",
    "O arquivo `worldcities.csv` é um conjunto de dados aberto com alguns dados de cidades de inumeros paises e usaremos esse conjunto de dados para alguns exerícios. Portanto, é necessário prepará-lo.\n",
    "\n",
    "Faça as seguintes etapas:\n",
    "\n",
    "### Pré-processar os dados\n",
    "- Utilizando o arquivo `worldcities.csv`, filtre os dados para uma estrutura (tal como, Dataframe Pandas) apenas com cidades que sejam do estado do Paraná (Brasil)\n",
    "\n",
    "### Modele os dados\n",
    "- Selecionar aleatoriamente a quantidade de cidades vizinhas com estradas que as interligam (quantidade deve ser entre 2 ou 6 cidades)\n",
    "- Calcular as n cidades mais próximas (n foi selecionado no item anterior) usando a formula de Haversine (sugestão, use o pacote haversine do Python)\n",
    "- Fazer uma estrutura (utilizando dicionário) que represente as conexões (estradas) entre as cidades\n",
    "  - Exemplo 1: \n",
    "  ```\n",
    "  {\n",
    "    'Curitiba': ['Londrina', 'Maringá', 'Ponta Grossa'],\n",
    "    'Londrina': ['Curitiba', 'Maringá', 'Cambé, 'Ibiporã', 'Jataizinho'],\n",
    "    'Ponta Grossa': ['Curitiba', 'Cascavel', 'Sabáudia']\n",
    "  }\n",
    "  ```\n",
    "  - Exemplo 2:\n",
    "  \n",
    "  | No_1  | No_2 |\n",
    "  | ----- | ----- |\n",
    "  | Curitiba  | Londrina  |\n",
    "  | Curitiba  | Maringá   |\n",
    "  | Londrina  | Curitiba  |\n",
    "  | Londrina  | Cambé     |\n",
    "  | Ponta Grossa  | Curitiba  |\n",
    "  | Ponta Grossa  | Cascavel  |\n",
    "\n",
    "### Salve a estrutura\n",
    "\n",
    "Salve os dados em um arquivo `JSON` (exemplo 1) ou `CSV` (exemplo 2) e submeta no classroom junto com o código utilizado para gerá-los.\n",
    "\n",
    "\n",
    "### Considerações finais\n",
    "\n",
    "É permitido utilizar a biblioteca [NetworkX](https://networkx.org/) ([Tutorial simples com exemplos de usos](https://diegomariano.com/networkx/)) ou outro pacote que possa auxiliar."
   ]
  },
  {
   "cell_type": "code",
   "execution_count": null,
   "id": "cfb0e17f",
   "metadata": {},
   "outputs": [],
   "source": []
  }
 ],
 "metadata": {
  "kernelspec": {
   "display_name": "env",
   "language": "python",
   "name": "python3"
  },
  "language_info": {
   "codemirror_mode": {
    "name": "ipython",
    "version": 3
   },
   "file_extension": ".py",
   "mimetype": "text/x-python",
   "name": "python",
   "nbconvert_exporter": "python",
   "pygments_lexer": "ipython3",
   "version": "3.11.12"
  }
 },
 "nbformat": 4,
 "nbformat_minor": 5
}
